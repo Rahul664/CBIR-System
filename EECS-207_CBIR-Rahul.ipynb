{
 "cells": [
  {
   "cell_type": "code",
   "execution_count": null,
   "id": "5e26165b",
   "metadata": {},
   "outputs": [],
   "source": [
    "#RAHUL S HOSKERI (rhoskeri@ucmerced.edu)\n",
    "\n",
    "# Instructions to run the notebook file\n",
    "# --------------------------------------\n",
    "# 1) Place the folder with audio recordings and name it as \"Recordings\" and place the image_names_classes.csv file in the *** same directory *** where the notebook file is.\n",
    "\n",
    "# 2) Launch the notebook file with name \"EECS-207_CBIR-Rahul.ipynb\" and run all.\n",
    "\n",
    "# This will create all the folders necessary and perform all steps necessary to generate the graph.\n",
    "\n",
    "# Compute Spectogram from the audio recording \n",
    "# Identify the ROIs from the spectrum\n",
    "# Feature extraction of the dataset\n",
    "# Query images against the rest and calculate precision and recall"
   ]
  },
  {
   "cell_type": "code",
   "execution_count": 173,
   "id": "90d88425",
   "metadata": {},
   "outputs": [],
   "source": [
    "# Import section\n",
    "import numpy as np\n",
    "import IPython.display as ipd\n",
    "import matplotlib.pyplot as plt\n",
    "import librosa\n",
    "import os\n",
    "import pandas as pd\n",
    "from scipy import signal\n",
    "from scipy import ndimage as nd\n",
    "from scipy import signal as sg\n",
    "from skimage import data\n",
    "from skimage.util import img_as_float\n",
    "from skimage.filters import gabor_kernel"
   ]
  },
  {
   "cell_type": "code",
   "execution_count": null,
   "id": "5799468c",
   "metadata": {},
   "outputs": [],
   "source": [
    "# Compute Spectogram from the audio recording "
   ]
  },
  {
   "cell_type": "code",
   "execution_count": null,
   "id": "92ceb13e",
   "metadata": {},
   "outputs": [],
   "source": [
    "# Expect the sampling rate to be the same for all recordings.\n",
    "sampling_rate_expected = 44100\n",
    "\n",
    "# The window size for the spectrogram.\n",
    "window_size = 1024\n",
    "\n",
    "# The window overlap for the spectrogram.\n",
    "window_overlap = 512"
   ]
  },
  {
   "cell_type": "code",
   "execution_count": null,
   "id": "4b814932",
   "metadata": {},
   "outputs": [],
   "source": [
    "cwd=os.getcwd()\n",
    "# The directory where the .wav files are located. We will read these.\n",
    "recording_dir = cwd +'/Recordings/'\n",
    "\n",
    "# The directory where we will write the computed spectrograms as .png image files.\n",
    "spectrogram_dir = cwd +'/Spectrograms/'\n",
    "\n",
    "try:\n",
    "    os.makedirs(spectrogram_dir)\n",
    "except:\n",
    "    pass\n"
   ]
  },
  {
   "cell_type": "code",
   "execution_count": null,
   "id": "a7b7e97b",
   "metadata": {},
   "outputs": [],
   "source": [
    "# Write spectrogram parameters.\n",
    "parameters_filename = spectrogram_dir + '0_spectrogram_parameters.txt'\n",
    "spectogram_param_file = open(parameters_filename,'w')\n",
    "spectogram_param_file.write('sampling rate = '+ repr(sampling_rate_expected)+'\\n')\n",
    "spectogram_param_file.write('window size = '+ repr(window_size)+'\\n')\n",
    "spectogram_param_file.write('window overlap = '+ repr(window_overlap)+'\\n')\n",
    "spectogram_param_file.write('log10 of spectrum\\n')\n",
    "spectogram_param_file.close()"
   ]
  },
  {
   "cell_type": "code",
   "execution_count": null,
   "id": "0ca5fe97",
   "metadata": {},
   "outputs": [],
   "source": [
    "# Get list of recordings.\n",
    "recording_list = os.listdir(recording_dir);\n",
    "n_recordings = len(recording_list)\n",
    "print(n_recordings)"
   ]
  },
  {
   "cell_type": "code",
   "execution_count": null,
   "id": "74bbe469",
   "metadata": {},
   "outputs": [],
   "source": [
    "# Read each recording and compute spectrogram\n",
    "recording_num = 0\n",
    "for recording in recording_list:\n",
    "    recording_num = recording_num + 1\n",
    "    recording_filename = recording_dir + recording\n",
    "#     print('recording '+repr(recording_num)+' of '+repr(n_recordings)+': about to read '+recording)\n",
    "    # Read the audio file. Don't change the sample rate.\n",
    "    x, sampling_rate = librosa.load(recording_filename,sr=None)\n",
    "    \n",
    "    if sampling_rate != sampling_rate_expected:\n",
    "        print('WRONG SAMPLING RATE: expected='+repr(sampling_rate_expected)+' recording='+repr(sampling_rate))\n",
    "        break\n",
    "        \n",
    "    # Compute the spectrogram.\n",
    "    w, t, s = signal.spectrogram(x, sampling_rate, noverlap=window_overlap, nperseg=window_size)\n",
    "    \n",
    "    # s: matrix with the 2D spectrogram (will be complex).\n",
    "    # w: vector with the frequencies spacings of the computed DFT.\n",
    "    # t: vector with the time spacings of the windows.\n",
    "\n",
    "    # Compute the spectrum of the spectrogram.\n",
    "    s_spectrum = abs(s);\n",
    "    \n",
    "    # Flip it vertically.\n",
    "    s_spectrum = np.flip(s_spectrum, 0)\n",
    "\n",
    "    # Compute log_10 of spectrogram.\n",
    "    s_spectrum_log = np.log10( s_spectrum + np.finfo(float).eps )\n",
    "    #plt.imshow(s_spectrum_log,cmap='gray')\n",
    "    \n",
    "    # Normalize so values range from 0 to 1.\n",
    "    s_spectrum_log = (s_spectrum_log - np.amin(s_spectrum_log)) / (np.amax(s_spectrum_log) - np.amin(s_spectrum_log))\n",
    "\n",
    "    # Save as png file.\n",
    "    spectrogram_filename = spectrogram_dir + recording +'.png'\n",
    "    plt.imsave(spectrogram_filename, s_spectrum_log, cmap='gray')\n",
    "\n",
    "    # Save time and frequency indices.\n",
    "    spectrograminfo_filename = spectrogram_dir + recording + '_info.txt'\n",
    "    spectrograminfo_file = open(spectrograminfo_filename,'w')    \n",
    "    for i in t:\n",
    "        spectrograminfo_file.write(repr(i)+'\\n')\n",
    "    for i in w:\n",
    "        spectrograminfo_file.write(repr(i)+'\\n')\n",
    "    spectrograminfo_file.close()"
   ]
  },
  {
   "cell_type": "code",
   "execution_count": null,
   "id": "8d09ef30",
   "metadata": {},
   "outputs": [],
   "source": [
    "# Identify the ROIs from the spectrum"
   ]
  },
  {
   "cell_type": "code",
   "execution_count": null,
   "id": "49e68198",
   "metadata": {},
   "outputs": [],
   "source": [
    "# Import section\n",
    "import pandas as pd\n",
    "from PIL import Image, ImageDraw"
   ]
  },
  {
   "cell_type": "code",
   "execution_count": null,
   "id": "65fbe275",
   "metadata": {},
   "outputs": [],
   "source": [
    "# root_dir of where to put annotated spectrograms, etc.\n",
    "root_dir = cwd+'/ROIs/'\n",
    "\n",
    "# Where the computed spectrograms are located.\n",
    "spectrogram_dir = cwd+'/Spectrograms/'\n",
    "\n",
    "# Where the ROI .csv files are located.\n",
    "rois_dir = cwd+'/ROIs/'\n",
    "\n",
    "# The .csv file with the info about the ROIs.\n",
    "rois_info_file = cwd+'/ROIs/birds.csv'\n",
    "\n",
    "# Read the ROI info.\n",
    "rois_info = pd.read_csv(rois_info_file)\n",
    "\n",
    "n_birds = 5;\n"
   ]
  },
  {
   "cell_type": "code",
   "execution_count": null,
   "id": "96c9ac3e",
   "metadata": {},
   "outputs": [],
   "source": [
    "# For each bird, read the ROI file and process the ROIs.\n",
    "#for i in range(1):\n",
    "for i in range(n_birds):\n",
    "#     print(\"bird num\",i)\n",
    "    # Read ROI .csv file for this bird.\n",
    "    roi_csv_file = rois_dir + rois_info['roi_file'][i]\n",
    "    bird_rois_info = pd.read_csv(roi_csv_file);\n",
    "#     print(bird_rois_info.head(5))\n",
    "    n_rois = rois_info['roi_count'][i]\n",
    "    # Process each ROI for this bird.\n",
    "    for j in range(n_rois):\n",
    "#    for j in range(2):\n",
    "#        print(j)\n",
    "        # Always get original spectroram.\n",
    "        recording = bird_rois_info['recording'][j]\n",
    "        spectrogram = recording + '.png'\n",
    "        spectrogram_filename = spectrogram_dir + spectrogram\n",
    "#         print(spectrogram_filename)\n",
    "        spectrogram_image = plt.imread(spectrogram_filename)\n",
    "#         plt.imshow(spectrogram_image,cmap='gray')\n",
    "        \n",
    "        # Check to see if this spectrogram has already been marked with an ROI.\n",
    "        spectrogram_roi = recording + '.roi.png'\n",
    "        spectrogram_roi_filename = root_dir + rois_info['bird'][i] + '/' + spectrogram_roi\n",
    "#         print(spectrogram_roi_filename)\n",
    "        \n",
    "        if os.path.exists(spectrogram_roi_filename):\n",
    "            # Read already marked up spectrogram.\n",
    "            spectrogram_roi_image_PIL = Image.open(spectrogram_roi_filename);\n",
    "        else:\n",
    "            try:\n",
    "                os.makedirs(root_dir + rois_info['bird'][i])\n",
    "            except:\n",
    "                pass\n",
    "            spectrogram_roi_image_PIL = Image.open(spectrogram_filename);\n",
    "\n",
    "        # Get size of spectrogram.\n",
    "        n_rows = np.shape(spectrogram_image)[0]\n",
    "        n_cols = np.shape(spectrogram_image)[1]\n",
    "            \n",
    "        # Get time and frequency coordinates of spectrogram from _info.txt file.\n",
    "        spectrogram_info = recording + '_info.txt'\n",
    "        spectrogram_info_filename = spectrogram_dir + spectrogram_info\n",
    "        spectrograminfo_file = open(spectrogram_info_filename,'r')\n",
    "\n",
    "        time_coords = np.zeros(n_cols)\n",
    "        for x in range(n_cols):\n",
    "            time_coords[x] = spectrograminfo_file.readline()\n",
    "        freq_coords = np.zeros(n_rows)\n",
    "        for x in range(n_rows):\n",
    "            freq_coords[x] = spectrograminfo_file.readline()\n",
    "        spectrograminfo_file.close()\n",
    "        # Reverse.\n",
    "        freq_coords = np.flip(freq_coords)\n",
    "        \n",
    "        # Find pixel bounds of ROI.\n",
    "        top_left_row = np.where(freq_coords < bird_rois_info['y2'][j])\n",
    " #       print(top_left_row[0][0])\n",
    "        bottom_right_row = np.where(freq_coords < bird_rois_info['y1'][j])\n",
    " #       print(bottom_right_row[0][0])\n",
    "        top_left_col = np.where(time_coords > bird_rois_info['x1'][j])\n",
    "#        print(top_left_col[0][0])\n",
    "        bottom_right_col = np.where(time_coords > bird_rois_info['x2'][j])\n",
    "#        print(bottom_right_col[0][0])\n",
    "        width = bottom_right_col[0][0] - top_left_col[0][0] + 1;\n",
    "        height = bottom_right_row[0][0] - top_left_row[0][0] + 1;\n",
    "#        print(width)\n",
    "#        print(height)\n",
    "        \n",
    "        # Draw rectangle.\n",
    "        img1 = ImageDraw.Draw(spectrogram_roi_image_PIL)  \n",
    "        img1.rectangle([(top_left_col[0][0],top_left_row[0][0]),(bottom_right_col[0][0],bottom_right_row[0][0])], outline ='white')\n",
    "#        spectrogram_roi_image_PIL.show()\n",
    "        \n",
    "        # Save spectrogram with marked ROIs.\n",
    "        spectrogram_roi_image_PIL.save(spectrogram_roi_filename)\n",
    "        \n",
    "        # Extract and save ROI.\n",
    "        image_roi = spectrogram_image[top_left_row[0][0]-1:bottom_right_row[0][0]-1, top_left_col[0][0]-1:bottom_right_col[0][0]-1]\n",
    "        image_roi_filename = root_dir+rois_info['bird'][i]+'/ROIs/'+rois_info['bird'][i]+'_'+repr(bird_rois_info['id'][j])+'.png'\n",
    "        \n",
    "        if os.path.exists(root_dir+rois_info['bird'][i]+'/ROIs/'):\n",
    "#             print(image_roi_filename)\n",
    "            plt.imsave(image_roi_filename, image_roi, cmap='gray')\n",
    "        else:\n",
    "            try:\n",
    "                os.makedirs(root_dir+rois_info['bird'][i]+'/ROIs/')\n",
    "            except:\n",
    "                pass\n",
    "            plt.imsave(image_roi_filename, image_roi, cmap='gray')"
   ]
  },
  {
   "cell_type": "code",
   "execution_count": null,
   "id": "eeb6a4a5",
   "metadata": {},
   "outputs": [],
   "source": [
    "# Feature extraction"
   ]
  },
  {
   "cell_type": "code",
   "execution_count": null,
   "id": "08679969",
   "metadata": {},
   "outputs": [],
   "source": [
    "import shutil"
   ]
  },
  {
   "cell_type": "code",
   "execution_count": null,
   "id": "408518c3",
   "metadata": {},
   "outputs": [],
   "source": [
    "#Create folders if not existing\n",
    "try:\n",
    "    os.makedirs(cwd+'/features')\n",
    "    os.makedirs(cwd+'/images')\n",
    "except:\n",
    "    pass\n",
    "\n",
    "#Logic to copy ROI's calculated to one folder named 'image' for feature extraction\n",
    "if len(os.listdir(cwd+'/images'))==0:\n",
    "    for i in os.listdir(cwd+'/ROIs'):\n",
    "        if os.path.isdir(cwd+'/ROIs/'+i):\n",
    "            if len(os.listdir(cwd+'/ROIs/'+i+'/ROIs/'))==0:\n",
    "                print(\"Folder of ROI empty\")\n",
    "            else:\n",
    "                for j in os.listdir(cwd+'/ROIs/'+i+'/ROIs/'):\n",
    "                    shutil.copy(cwd+'/ROIs/'+i+'/ROIs/'+j,cwd+'/images')\n",
    "else:\n",
    "    pass\n",
    "#     print(\"Files exist in image folder\")\n",
    "\n",
    "# Location of images.\n",
    "image_dir = cwd + '/images/'\n",
    "\n",
    "# Location of where to write features.\n",
    "feature_dir = cwd + '/features/'\n",
    "\n",
    "# The .csv file containing the image names and classes.\n",
    "image_file = cwd + '/image_names_classes.csv'"
   ]
  },
  {
   "cell_type": "code",
   "execution_count": null,
   "id": "d95c065c",
   "metadata": {},
   "outputs": [],
   "source": [
    "# Number of images.\n",
    "n_images = 218\n",
    "\n",
    "# Read image names and classes .csv file.\n",
    "image_names_classes = pd.read_csv(image_file, header=None )\n",
    "# print(image_names_classes[1][0])"
   ]
  },
  {
   "cell_type": "markdown",
   "id": "631ef5db",
   "metadata": {},
   "source": [
    "### Mean_Std Feature"
   ]
  },
  {
   "cell_type": "code",
   "execution_count": null,
   "id": "b682e890",
   "metadata": {},
   "outputs": [],
   "source": [
    "# Simple features have dimension 2\n",
    "fdim = 2\n",
    "\n",
    "features = np.zeros((n_images, fdim))"
   ]
  },
  {
   "cell_type": "code",
   "execution_count": null,
   "id": "484a7b98",
   "metadata": {},
   "outputs": [],
   "source": [
    "# Extract features std_mean for each image.\n",
    "for i in range(n_images):\n",
    "    \n",
    "    # Read the image.\n",
    "    filename = image_dir + image_names_classes[0][i]\n",
    "    im = plt.imread(filename)\n",
    "#     print(im.shape)\n",
    "    # It turns out that the spectrogram images saved using plt.imsave have four channels\n",
    "    # RGBA. The RGB channels are each equal to the grayscale value so we can use any of them.\n",
    "        \n",
    "    # Compute the mean of the grayscale image as the first feature dimension.\n",
    "    features[i,0] = np.mean(im[:,:,0])\n",
    "    \n",
    "    # Compute the standard deviation of the grayscale image as the second feature dimension.\n",
    "    features[i,1] = np.std(im[:,:,0])"
   ]
  },
  {
   "cell_type": "code",
   "execution_count": null,
   "id": "7f6e689b",
   "metadata": {},
   "outputs": [],
   "source": [
    "# Save the features as a .csv file.\n",
    "feature_filename = feature_dir + 'mean_stdev.txt'\n",
    "\n",
    "np.savetxt(feature_filename, features, delimiter=',')"
   ]
  },
  {
   "cell_type": "code",
   "execution_count": null,
   "id": "77f1ed58",
   "metadata": {},
   "outputs": [],
   "source": [
    "# # Simple features have dimension 2\n",
    "# fdim = 1\n",
    "# features = np.zeros((n_images, fdim))"
   ]
  },
  {
   "cell_type": "code",
   "execution_count": null,
   "id": "4878c780",
   "metadata": {},
   "outputs": [],
   "source": [
    "# # Extract feature mean for each image.\n",
    "# for i in range(n_images):\n",
    "    \n",
    "#     # Read the image.\n",
    "#     filename = image_dir + image_names_classes[0][i]\n",
    "#     im = plt.imread(filename)\n",
    "# #     print(im.shape)\n",
    "#     # It turns out that the spectrogram images saved using plt.imsave have four channels\n",
    "#     # RGBA. The RGB channels are each equal to the grayscale value so we can use any of them.\n",
    "        \n",
    "#     # Compute the mean of the grayscale image as the first feature dimension.\n",
    "# #     print(i)\n",
    "#     features[i] = np.mean(im[:,:,0])\n"
   ]
  },
  {
   "cell_type": "code",
   "execution_count": null,
   "id": "d4ec5f34",
   "metadata": {},
   "outputs": [],
   "source": [
    "# feature_filename = feature_dir + 'mean.txt'\n",
    "# # print(features)\n",
    "# np.savetxt(feature_filename, features, delimiter=',')"
   ]
  },
  {
   "cell_type": "code",
   "execution_count": null,
   "id": "c712a2fa",
   "metadata": {},
   "outputs": [],
   "source": [
    "# # Simple features have dimension 2\n",
    "# fdim = 1\n",
    "# features = np.zeros((n_images, fdim))"
   ]
  },
  {
   "cell_type": "code",
   "execution_count": null,
   "id": "76ee2bbb",
   "metadata": {},
   "outputs": [],
   "source": [
    "# # Extract feature standard_deviation mean for each image.\n",
    "# for i in range(n_images):\n",
    "    \n",
    "#     # Read the image.\n",
    "#     filename = image_dir + image_names_classes[0][i]\n",
    "#     im = plt.imread(filename)\n",
    "# #     print(im.shape)\n",
    "#     # It turns out that the spectrogram images saved using plt.imsave have four channels\n",
    "#     # RGBA. The RGB channels are each equal to the grayscale value so we can use any of them.\n",
    "        \n",
    "#     # Compute the mean of the grayscale image as the first feature dimension.\n",
    "#     features[i] = np.std(im[:,:,0])"
   ]
  },
  {
   "cell_type": "code",
   "execution_count": null,
   "id": "c90abca6",
   "metadata": {},
   "outputs": [],
   "source": [
    "# feature_filename = feature_dir + 'std.txt'\n",
    "\n",
    "# np.savetxt(feature_filename, features, delimiter=',')"
   ]
  },
  {
   "cell_type": "markdown",
   "id": "07c3d47d",
   "metadata": {},
   "source": [
    "### Gabor Filters"
   ]
  },
  {
   "cell_type": "code",
   "execution_count": null,
   "id": "97f3ebb3",
   "metadata": {},
   "outputs": [],
   "source": [
    "### Gabor Features 2 scale and 3 orientation ###\n",
    "\n",
    "# prepare filter bank kernels\n",
    "kernels = []\n",
    "# EXPERIMENT WITH THE NUMBER OF ORIENTATIONS.\n",
    "# MAKE SURE TO CHANGE THE FEATURE FILENAME BELOW TO INDICATE THE NUMBER OF ORIENTATIONS: Gabor_Y_X_.txt\n",
    "# WHERE X IS THE NUMBER OF SCALES AND Y IS THE NUMBER OF ORIENTATIONS.\n",
    "norientations = 3\n",
    "scales=len([0.05, 0.25])\n",
    "for theta in range(norientations):\n",
    "    theta = theta / norientations * np.pi\n",
    "    # EXPERIMENT WITH THE NUMBER OF SCALES AND THE FREQUENCIES OF THE FILTERS.\n",
    "#    for frequency in (0.05, 0.1, 0.20, 0.4):\n",
    "    for frequency in (0.05, 0.25):\n",
    "        kernel = gabor_kernel(frequency, theta=theta)\n",
    "        kernels.append(kernel)\n",
    "        \n",
    "fig, axs = plt.subplots(1, len(kernels), figsize=(20,20))\n",
    "for k, kernel in enumerate(kernels):\n",
    "    axs[k].imshow(np.real(kernel),cmap='gray')\n",
    "    \n",
    "fig, axs = plt.subplots(1, len(kernels), figsize=(20,20))\n",
    "for k, kernel in enumerate(kernels):\n",
    "    axs[k].imshow(np.imag(kernel),cmap='gray')\n"
   ]
  },
  {
   "cell_type": "code",
   "execution_count": null,
   "id": "05d22bdf",
   "metadata": {},
   "outputs": [],
   "source": [
    "# Mean and standard deviation will be computed for each filter output.\n",
    "fdim = 2 * len(kernels)\n",
    "\n",
    "features = np.zeros((n_images, fdim))"
   ]
  },
  {
   "cell_type": "code",
   "execution_count": null,
   "id": "35f398bc",
   "metadata": {},
   "outputs": [],
   "source": [
    "def compute_feats(image, kernels):\n",
    "    feats = np.zeros((len(kernels) * 2), dtype=np.double)\n",
    "    for k, kernel in enumerate(kernels):\n",
    "        filtered = sg.convolve(image, kernel)\n",
    "        feats[2*k] = np.abs(filtered).mean()\n",
    "        feats[2*k+1] = np.abs(filtered).std()\n",
    "    return feats"
   ]
  },
  {
   "cell_type": "code",
   "execution_count": null,
   "id": "228a42b3",
   "metadata": {},
   "outputs": [],
   "source": [
    "# Extract features for each image.\n",
    "for i in range(n_images):\n",
    "    \n",
    "    # Read the image.\n",
    "    filename = image_dir + image_names_classes[0][i]    \n",
    "    im = plt.imread(filename)\n",
    "    \n",
    "    # It turns out that the spectrogram images saved using plt.imsave have four channels\n",
    "    # RGBA. The RGB channels are each equal to the grayscale value so we can use any of them.\n",
    "    \n",
    "    features[i, :] = compute_feats(im[:,:,0], kernels)\n",
    "    \n",
    "# Save the features as a .csv file.\n",
    "gabor_filename='Gabor'+'_'+str(scales)+'_'+str(norientations)+'.txt'\n",
    "feature_filename = feature_dir +  gabor_filename\n",
    "\n",
    "np.savetxt(feature_filename, features, delimiter=',')"
   ]
  },
  {
   "cell_type": "code",
   "execution_count": null,
   "id": "7e6cfe26",
   "metadata": {},
   "outputs": [],
   "source": [
    "### Gabor Features 3 scale and 5 orientation ###\n",
    "\n",
    "# prepare filter bank kernels\n",
    "kernels = []\n",
    "# EXPERIMENT WITH THE NUMBER OF ORIENTATIONS.\n",
    "# MAKE SURE TO CHANGE THE FEATURE FILENAME BELOW TO INDICATE THE NUMBER OF ORIENTATIONS: Gabor_Y_X_.txt\n",
    "# WHERE X IS THE NUMBER OF SCALES AND Y IS THE NUMBER OF ORIENTATIONS.\n",
    "norientations = 5\n",
    "scales=len([0.05, 0.1, 0.20])\n",
    "for theta in range(norientations):\n",
    "    theta = theta / norientations * np.pi\n",
    "    # EXPERIMENT WITH THE NUMBER OF SCALES AND THE FREQUENCIES OF THE FILTERS.\n",
    "#    for frequency in (0.05, 0.1, 0.20, 0.4):\n",
    "    for frequency in (0.05, 0.1, 0.20):\n",
    "        kernel = gabor_kernel(frequency, theta=theta)\n",
    "        kernels.append(kernel)\n",
    "        \n",
    "fig, axs = plt.subplots(1, len(kernels), figsize=(20,20))\n",
    "for k, kernel in enumerate(kernels):\n",
    "    axs[k].imshow(np.real(kernel),cmap='gray')\n",
    "    \n",
    "fig, axs = plt.subplots(1, len(kernels), figsize=(20,20))\n",
    "for k, kernel in enumerate(kernels):\n",
    "    axs[k].imshow(np.imag(kernel),cmap='gray')\n"
   ]
  },
  {
   "cell_type": "code",
   "execution_count": null,
   "id": "08658d43",
   "metadata": {},
   "outputs": [],
   "source": [
    "# Mean and standard deviation will be computed for each filter output.\n",
    "fdim = 2 * len(kernels)\n",
    "\n",
    "features = np.zeros((n_images, fdim))"
   ]
  },
  {
   "cell_type": "code",
   "execution_count": null,
   "id": "ed507a0d",
   "metadata": {},
   "outputs": [],
   "source": [
    "def compute_feats(image, kernels):\n",
    "    feats = np.zeros((len(kernels) * 2), dtype=np.double)\n",
    "    for k, kernel in enumerate(kernels):\n",
    "        filtered = sg.convolve(image, kernel)\n",
    "        feats[2*k] = np.abs(filtered).mean()\n",
    "        feats[2*k+1] = np.abs(filtered).std()\n",
    "    return feats"
   ]
  },
  {
   "cell_type": "code",
   "execution_count": null,
   "id": "2190b1c0",
   "metadata": {},
   "outputs": [],
   "source": [
    "# Extract features for each image.\n",
    "for i in range(n_images):\n",
    "    \n",
    "    # Read the image.\n",
    "    filename = image_dir + image_names_classes[0][i]    \n",
    "    im = plt.imread(filename)\n",
    "    \n",
    "    # It turns out that the spectrogram images saved using plt.imsave have four channels\n",
    "    # RGBA. The RGB channels are each equal to the grayscale value so we can use any of them.\n",
    "    \n",
    "    features[i, :] = compute_feats(im[:,:,0], kernels)\n",
    "    \n",
    "# Save the features as a .csv file.\n",
    "gabor_filename='Gabor'+'_'+str(scales)+'_'+str(norientations)+'.txt'\n",
    "feature_filename = feature_dir + gabor_filename\n",
    "\n",
    "np.savetxt(feature_filename, features, delimiter=',')"
   ]
  },
  {
   "cell_type": "markdown",
   "id": "acb07ba4",
   "metadata": {},
   "source": [
    "#### Queries part of code ####"
   ]
  },
  {
   "cell_type": "code",
   "execution_count": 142,
   "id": "8e53f83a",
   "metadata": {},
   "outputs": [],
   "source": [
    "# Dictionaries to store precision and recall for the queries performed\n",
    "from collections import OrderedDict\n",
    "import math\n",
    "import os\n",
    "mean_std_L1= OrderedDict()\n",
    "mean= OrderedDict()\n",
    "std= OrderedDict()\n",
    "Gabor2_3_L1= OrderedDict()\n",
    "Gabor3_5_L1= OrderedDict()\n",
    "\n",
    "mean_std_L2= OrderedDict()\n",
    "Gabor2_3_L2= OrderedDict()\n",
    "Gabor3_5_L2= OrderedDict()"
   ]
  },
  {
   "cell_type": "code",
   "execution_count": 143,
   "id": "d125257d",
   "metadata": {},
   "outputs": [],
   "source": [
    "def prec_recal(prec_num,prec_denom,recal_num,recal_denom):\n",
    "    return (prec_num/prec_denom,recal_num/recal_denom)"
   ]
  },
  {
   "cell_type": "code",
   "execution_count": 144,
   "id": "2b39109e",
   "metadata": {},
   "outputs": [],
   "source": [
    "#Dictionary to store the class and class size of birds\n",
    "bird_class_size_dict=OrderedDict()\n",
    "rois_info = pd.read_csv(rois_info_file)\n",
    "\n",
    "#Store the class and class size of birds\n",
    "for i in range(len(list(rois_info['bird']))):\n",
    "    bird_class_size_dict[i+1]=rois_info['roi_count'].iloc[i]\n",
    "\n",
    "# Number of images.\n",
    "n_images = 218"
   ]
  },
  {
   "cell_type": "markdown",
   "id": "ab4e1014",
   "metadata": {},
   "source": [
    "### L1 Distance"
   ]
  },
  {
   "cell_type": "code",
   "execution_count": 145,
   "id": "e9f989d7",
   "metadata": {},
   "outputs": [
    {
     "name": "stdout",
     "output_type": "stream",
     "text": [
      "Gabor_2_3.txt 12\n",
      "Gabor_3_5.txt 30\n",
      "mean_stdev.txt 2\n"
     ]
    }
   ],
   "source": [
    "for i in os.listdir(feature_dir):\n",
    "    if i.split(\".\")[1]=='txt':\n",
    "        feature_filename = feature_dir + i\n",
    "        features = np.genfromtxt(feature_filename, delimiter=',')\n",
    "        fdim = np.shape(features)[1]\n",
    "        print(i,fdim)\n",
    "        \n",
    "        for query_image in range(n_images):\n",
    "            # Compute Euclidean distance between query feature vector and each image's feature vector.\n",
    "            distances = np.zeros(n_images)\n",
    "            \n",
    "            for j in range(n_images):\n",
    "                distances[j] = 0\n",
    "                for k in range(fdim):\n",
    "                    distances[j] = distances[j] + ((features[query_image][k] - features[j][k])**2)\n",
    "                distances[j] = distances[j] ** 0.5\n",
    "                \n",
    "            # Get the indices of the sorted distances.\n",
    "            sorted_index = np.argsort(distances)\n",
    "            #Get the class and class size of query image\n",
    "            class_qimg=image_names_classes[1][query_image]\n",
    "            class_qimg_size= bird_class_size_dict[class_qimg]\n",
    "\n",
    "            temp_prec_arr=[]\n",
    "            temp_recal_arr=[]\n",
    "\n",
    "            # Retrieve top k images.\n",
    "            for k in range(1,n_images+1):\n",
    "                prec_num=0\n",
    "                prec_denom=k\n",
    "                recal_denom=class_qimg_size\n",
    "                recal_num=0\n",
    "                for z in sorted_index[0:k]:\n",
    "                    if class_qimg==image_names_classes[1][z]:\n",
    "                        prec_num+=1\n",
    "                        recal_num+=1\n",
    "                temp_prec_arr.append(prec_num/prec_denom)\n",
    "                temp_recal_arr.append(recal_num/recal_denom)\n",
    "                \n",
    "            if i==\"Gabor_2_3.txt\":\n",
    "                Gabor2_3_L1[query_image]=[temp_prec_arr,temp_recal_arr]\n",
    "            if i==\"Gabor_3_5.txt\":\n",
    "                Gabor3_5_L1[query_image]=[temp_prec_arr,temp_recal_arr]\n",
    "            if i==\"mean_stdev.txt\":\n",
    "                mean_std_L1[query_image]=[temp_prec_arr,temp_recal_arr]\n",
    "                    \n",
    "                    \n",
    "                    \n",
    "            "
   ]
  },
  {
   "cell_type": "markdown",
   "id": "d36bf1ce",
   "metadata": {},
   "source": [
    "### L2 Distance"
   ]
  },
  {
   "cell_type": "code",
   "execution_count": 146,
   "id": "381d051b",
   "metadata": {},
   "outputs": [
    {
     "name": "stdout",
     "output_type": "stream",
     "text": [
      "Gabor_2_3.txt 12\n",
      "Gabor_3_5.txt 30\n",
      "mean_stdev.txt 2\n"
     ]
    }
   ],
   "source": [
    "for i in os.listdir(feature_dir):\n",
    "    if i.split(\".\")[1]=='txt':\n",
    "        feature_filename = feature_dir + i\n",
    "        features = np.genfromtxt(feature_filename, delimiter=',')\n",
    "        fdim = np.shape(features)[1]\n",
    "        print(i,fdim)\n",
    "        \n",
    "        for query_image in range(n_images):\n",
    "            # Compute Euclidean distance between query feature vector and each image's feature vector.\n",
    "            distances = np.zeros(n_images)\n",
    "            \n",
    "            for j in range(n_images):\n",
    "                distances[j] = 0\n",
    "                for k in range(fdim):\n",
    "                    distances[j] = distances[j] + (abs(features[query_image][k] - features[j][k]))\n",
    "                \n",
    "            # Get the indices of the sorted distances.\n",
    "            sorted_index = np.argsort(distances)\n",
    "            #Get the class and class size of query image\n",
    "            class_qimg=image_names_classes[1][query_image]\n",
    "            class_qimg_size= bird_class_size_dict[class_qimg]\n",
    "\n",
    "            temp_prec_arr=[]\n",
    "            temp_recal_arr=[]\n",
    "\n",
    "            # Retrieve top k images.\n",
    "            for k in range(1,n_images+1):\n",
    "                prec_num=0\n",
    "                prec_denom=k\n",
    "                recal_denom=class_qimg_size\n",
    "                recal_num=0\n",
    "                for z in sorted_index[0:k]:\n",
    "                    if class_qimg==image_names_classes[1][z]:\n",
    "                        prec_num+=1\n",
    "                        recal_num+=1\n",
    "                temp_prec_arr.append(prec_num/prec_denom)\n",
    "                temp_recal_arr.append(recal_num/recal_denom)\n",
    "                \n",
    "            if i==\"Gabor_2_3.txt\":\n",
    "                Gabor2_3_L2[query_image]=[temp_prec_arr,temp_recal_arr]\n",
    "            if i==\"Gabor_3_5.txt\":\n",
    "                Gabor3_5_L2[query_image]=[temp_prec_arr,temp_recal_arr]\n",
    "            if i==\"mean_stdev.txt\":\n",
    "                mean_std_L2[query_image]=[temp_prec_arr,temp_recal_arr]"
   ]
  },
  {
   "cell_type": "markdown",
   "id": "4c8fb4a3",
   "metadata": {},
   "source": [
    "### Interpolate Precision for fixed recall values"
   ]
  },
  {
   "cell_type": "code",
   "execution_count": 159,
   "id": "7fd7f72e",
   "metadata": {},
   "outputs": [],
   "source": [
    "pre_defined_recal=[0.0,0.1,0.2,0.3,0.4,0.5,0.6,0.7,0.8,0.9,1.0]"
   ]
  },
  {
   "cell_type": "code",
   "execution_count": 166,
   "id": "cacfa068",
   "metadata": {},
   "outputs": [],
   "source": [
    "#Empty dictionaries to hold the interpolated values\n",
    "mean_std_L1_p_r= OrderedDict()\n",
    "Gabor2_3_L1_p_r= OrderedDict()\n",
    "Gabor3_5_L1_p_r= OrderedDict()\n",
    "\n",
    "mean_std_L2_p_r= OrderedDict()\n",
    "Gabor2_3_L2_p_r= OrderedDict()\n",
    "Gabor3_5_L2_p_r= OrderedDict()\n"
   ]
  },
  {
   "cell_type": "code",
   "execution_count": 167,
   "id": "5a9dabfd",
   "metadata": {},
   "outputs": [],
   "source": [
    "#Function to return the interpolated precision value\n",
    "\n",
    "def interpolate_p_r(p_arr,r_arr):\n",
    "    temp_p=[]\n",
    "    for i in pre_defined_recal: \n",
    "        for j in range(len(r_arr)):\n",
    "            if r_arr[j]>=i:\n",
    "                temp_p.append(p_arr[j])\n",
    "                break\n",
    "    return temp_p\n",
    "    \n",
    "    "
   ]
  },
  {
   "cell_type": "code",
   "execution_count": 168,
   "id": "3d1be688",
   "metadata": {},
   "outputs": [],
   "source": [
    "#interpolate for L1 measure\n",
    "for k,v in mean_std_L1.items():\n",
    "    ans=interpolate_p_r(v[0],v[1])\n",
    "    mean_std_L1_p_r[k]=ans\n",
    "    \n",
    "for k,v in Gabor2_3_L1.items():\n",
    "    ans=interpolate_p_r(v[0],v[1])\n",
    "    Gabor2_3_L1_p_r[k]=ans\n",
    "    \n",
    "for k,v in Gabor3_5_L1.items():\n",
    "    ans=interpolate_p_r(v[0],v[1])\n",
    "    Gabor3_5_L1_p_r[k]=ans\n",
    "    "
   ]
  },
  {
   "cell_type": "code",
   "execution_count": 169,
   "id": "1dac2fff",
   "metadata": {},
   "outputs": [],
   "source": [
    "#interpolate for L2 measure\n",
    "for k,v in mean_std_L2.items():\n",
    "    ans=interpolate_p_r(v[0],v[1])\n",
    "    mean_std_L2_p_r[k]=ans\n",
    "    \n",
    "for k,v in Gabor2_3_L2.items():\n",
    "    ans=interpolate_p_r(v[0],v[1])\n",
    "    Gabor2_3_L2_p_r[k]=ans\n",
    "    \n",
    "for k,v in Gabor3_5_L2.items():\n",
    "    ans=interpolate_p_r(v[0],v[1])\n",
    "    Gabor3_5_L2_p_r[k]=ans"
   ]
  },
  {
   "cell_type": "code",
   "execution_count": 190,
   "id": "1b740e80",
   "metadata": {},
   "outputs": [],
   "source": [
    "#Aggregate the interpolated precision values for recal values\n",
    "mean_std_L1_res=np.zeros(11)\n",
    "for k,v in mean_std_L1_p_r.items():\n",
    "    mean_std_L1_res=np.add(mean_std_L1_res,v)\n",
    "for i in range(len(mean_std_L1_res)):\n",
    "    mean_std_L1_res[i]=mean_std_L1_res[i]/218\n",
    "    \n",
    "Gabor2_3_L1_res=np.zeros(11)\n",
    "for k,v in Gabor2_3_L1_p_r.items():\n",
    "    Gabor2_3_L1_res=np.add(Gabor2_3_L1_res,v)\n",
    "for i in range(len(Gabor2_3_L1_res)):\n",
    "    Gabor2_3_L1_res[i]=Gabor2_3_L1_res[i]/218\n",
    "    \n",
    "Gabor3_5_L1_res=np.zeros(11)\n",
    "for k,v in Gabor3_5_L1_p_r.items():\n",
    "    Gabor3_5_L1_res=np.add(Gabor3_5_L1_res,v)\n",
    "for i in range(len(Gabor3_5_L1_res)):\n",
    "    Gabor3_5_L1_res[i]=Gabor3_5_L1_res[i]/218\n",
    "    \n",
    "    "
   ]
  },
  {
   "cell_type": "code",
   "execution_count": 194,
   "id": "449c5530",
   "metadata": {},
   "outputs": [],
   "source": [
    "#Aggregate the interpolated precision values for recal values\n",
    "mean_std_L2_res=np.zeros(11)\n",
    "for k,v in mean_std_L2_p_r.items():\n",
    "    mean_std_L2_res=np.add(mean_std_L2_res,v)\n",
    "for i in range(len(mean_std_L2_res)):\n",
    "    mean_std_L2_res[i]=mean_std_L2_res[i]/218\n",
    "    \n",
    "Gabor2_3_L2_res=np.zeros(11)\n",
    "for k,v in Gabor2_3_L2_p_r.items():\n",
    "    Gabor2_3_L2_res=np.add(Gabor2_3_L2_res,v)\n",
    "for i in range(len(Gabor2_3_L2_res)):\n",
    "    Gabor2_3_L2_res[i]=Gabor2_3_L2_res[i]/218\n",
    "    \n",
    "Gabor3_5_L2_res=np.zeros(11)\n",
    "for k,v in Gabor3_5_L2_p_r.items():\n",
    "    Gabor3_5_L2_res=np.add(Gabor3_5_L2_res,v)\n",
    "for i in range(len(Gabor3_5_L2_res)):\n",
    "    Gabor3_5_L2_res[i]=Gabor3_5_L2_res[i]/218"
   ]
  },
  {
   "cell_type": "code",
   "execution_count": 238,
   "id": "8698574f",
   "metadata": {},
   "outputs": [
    {
     "data": {
      "image/png": "[encoded data removed]",
      "text/plain": [
       "<Figure size 720x504 with 1 Axes>"
      ]
     },
     "metadata": {
      "needs_background": "light"
     },
     "output_type": "display_data"
    }
   ],
   "source": [
    "#Plot the final interpolated graph\n",
    "\n",
    "fig=plt.figure(figsize=(10,7))\n",
    "x=pre_defined_recal\n",
    "\n",
    "y1=mean_std_L1_res\n",
    "y2=Gabor2_3_L1_res\n",
    "y3=Gabor3_5_L1_res\n",
    "\n",
    "y4=mean_std_L2_res\n",
    "y5=Gabor2_3_L2_res\n",
    "y6=Gabor3_5_L2_res\n",
    "\n",
    "plt.plot(x,y1,'*r-',linewidth=1,label=\"Mean_Std_L1\")\n",
    "plt.plot(x,y2,'>b-',linewidth=1,label=\"Gabor2_3_L1\")\n",
    "plt.plot(x,y3,'<g-',linewidth=1,label=\"Gabor3_5_L1\")\n",
    "\n",
    "plt.plot(x,y4,'*y-',color=\"purple\",linewidth=1,label=\"Mean_Std_L2\")\n",
    "plt.plot(x,y5,'>-', color=\"orange\",linewidth=1,label=\"Gabor2_3_L2\")\n",
    "plt.plot(x,y6,'<-',color=\"black\",linewidth=1,label=\"Gabor3_5_L2\")\n",
    "\n",
    "plt.xticks(fontsize=15)\n",
    "plt.yticks(fontsize=15)\n",
    "\n",
    "plt.legend(fancybox=True, framealpha=1, shadow=True, borderpad=1,fontsize=10)\n",
    "plt.title(\"Recall Vs Precision Plot\",fontsize=15)\n",
    "plt.xlabel(\"Recall\",fontsize=15)\n",
    "plt.ylabel(\"Precision\",fontsize=15)\n",
    "plt.savefig(cwd+\"/\"+\"precision vs recall.png\")\n",
    "plt.show()"
   ]
  },
  {
   "cell_type": "code",
   "execution_count": 237,
   "id": "2b00c489",
   "metadata": {},
   "outputs": [
    {
     "name": "stdout",
     "output_type": "stream",
     "text": [
      "       Average Precision Values       \n",
      "--------------------------------------\n",
      "Mean_Std_L1 || 0.3610683856099536\n",
      "--------------------------------------\n",
      "Gabor2_3_L1 || 0.6003521514370342\n",
      "--------------------------------------\n",
      "Gabor3_5_L1 || 0.6382708592748849\n",
      "--------------------------------------\n",
      "Mean_Std_L2 || 0.36354809342441036\n",
      "--------------------------------------\n",
      "Gabor2_3_L2 || 0.5903209531093951\n",
      "--------------------------------------\n",
      "Gabor2_3_L2 || 0.6263292223471217\n",
      "--------------------------------------\n"
     ]
    }
   ],
   "source": [
    "#Average Precision values\n",
    "print(\"       Average Precision Values       \")\n",
    "print(\"--------------------------------------\")\n",
    "print(\"Mean_Std_L1 ||\",np.mean(mean_std_L1_res))\n",
    "print(\"--------------------------------------\")\n",
    "print(\"Gabor2_3_L1 ||\",np.mean(Gabor2_3_L1_res))\n",
    "print(\"--------------------------------------\")\n",
    "print(\"Gabor3_5_L1 ||\",np.mean(Gabor3_5_L1_res))\n",
    "print(\"--------------------------------------\")\n",
    "print(\"Mean_Std_L2 ||\",np.mean(mean_std_L2_res))\n",
    "print(\"--------------------------------------\")\n",
    "print(\"Gabor2_3_L2 ||\",np.mean(Gabor2_3_L2_res))\n",
    "print(\"--------------------------------------\")\n",
    "print(\"Gabor2_3_L2 ||\",np.mean(Gabor3_5_L2_res))\n",
    "print(\"--------------------------------------\")\n"
   ]
  },
  {
   "cell_type": "code",
   "execution_count": null,
   "id": "159200a0",
   "metadata": {},
   "outputs": [],
   "source": []
  }
 ],
 "metadata": {
  "kernelspec": {
   "display_name": "Python 3",
   "language": "python",
   "name": "python3"
  },
  "language_info": {
   "codemirror_mode": {
    "name": "ipython",
    "version": 3
   },
   "file_extension": ".py",
   "mimetype": "text/x-python",
   "name": "python",
   "nbconvert_exporter": "python",
   "pygments_lexer": "ipython3",
   "version": "3.8.3"
  }
 },
 "nbformat": 4,
 "nbformat_minor": 5
}
